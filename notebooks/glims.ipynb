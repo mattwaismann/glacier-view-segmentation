{
 "cells": [
  {
   "cell_type": "code",
   "execution_count": 7,
   "id": "compressed-tribe",
   "metadata": {},
   "outputs": [],
   "source": [
    "import fiona\n",
    "import geopandas as gpd\n",
    "import numpy as np\n",
    "import os\n",
    "import qgrid"
   ]
  },
  {
   "cell_type": "code",
   "execution_count": 2,
   "id": "pending-realtor",
   "metadata": {},
   "outputs": [],
   "source": [
    "# os.path.expanduser(\"~\") is the best way to get home directory, cross platform\n",
    "path_to_glims_polygons = os.path.join(os.path.expanduser(\"~\"), \"Desktop\", \"projects\", \"glacier_segmentation\", \"glims_data\",\"glims_polygons.shp\")"
   ]
  },
  {
   "cell_type": "code",
   "execution_count": 3,
   "id": "convinced-boundary",
   "metadata": {},
   "outputs": [],
   "source": [
    "df = gpd.read_file(path_to_glims_polygons)\n",
    "df = df[['glac_id','src_date','area','db_area','geog_area','geometry']]"
   ]
  },
  {
   "cell_type": "code",
   "execution_count": 4,
   "id": "mediterranean-placement",
   "metadata": {},
   "outputs": [],
   "source": [
    "df_copy = df.copy()\n",
    "df_copy = df_copy.to_crs({'proj':'cea'}) # Cylindrical equal-area, looks like this matches db_area from glims, cool.\n",
    "df['my_area'] = df_copy['geometry'].area/(10**6)"
   ]
  },
  {
   "cell_type": "code",
   "execution_count": 21,
   "id": "refined-pilot",
   "metadata": {},
   "outputs": [
    {
     "data": {
      "text/plain": [
       "Counter({'West Antarctica': 1,\n",
       "         'Iceland': 251,\n",
       "         'Randolph Glacier Inventory; Umbrella RC for merging the RGI into GLIMS': 172275,\n",
       "         'Various (NSIDC)': 414,\n",
       "         'Antarctic Peninsula': 5378,\n",
       "         'East Central Greenland': 259,\n",
       "         'Canada': 1146,\n",
       "         'Svalbard, Jan Mayen, and Bouvet': 2652,\n",
       "         'Various (GlobGlacier)': 40733,\n",
       "         'Svalbard': 2587,\n",
       "         'Asia': 130468,\n",
       "         'Argentina': 19030,\n",
       "         'Alaska': 3775,\n",
       "         'Himalaya (India, Nepal, Bhutan)': 43149,\n",
       "         'Chilean glaciers, between -18 and -56 degrees latitude': 109,\n",
       "         'Khumbu Area': 3461,\n",
       "         'Northern Cordillera': 17547,\n",
       "         'Kerguelen Island': 337,\n",
       "         'Prince William Sound': 208,\n",
       "         'Siberian Mountains': 6060,\n",
       "         'Russian and former Soviet Union glaciers': 91,\n",
       "         'China': 48555,\n",
       "         'Northeast Greenland': 51,\n",
       "         'Russian Glaciers (exact boundaries of RC to be defined)': 1359,\n",
       "         'Swiss Alps': 19083,\n",
       "         'New Zealand': 257,\n",
       "         'Coropuna, Peru': 19,\n",
       "         'Norway': 3281,\n",
       "         'Chile': 81,\n",
       "         'Southwestern Asia (Pakistan + Afghanistan)': 410,\n",
       "         'Mongolia': 2065,\n",
       "         'Caucausus Region': 6565,\n",
       "         'French Alps': 2581,\n",
       "         'Austrian Alps': 4454,\n",
       "         'Cordillera Blanca, Peru': 1206,\n",
       "         'Italy': 903,\n",
       "         'Sweden': 257,\n",
       "         'Conterminous USA': 5275,\n",
       "         'Turkey': 51,\n",
       "         'Olympic Peninsula': 975,\n",
       "         'Iran': 484,\n",
       "         'Italian Alps': 69,\n",
       "         'Central Asia': 660,\n",
       "         'Irian Jaya': 108,\n",
       "         'Chilean Norte Chico (25 to 32 degrees south latitude)': 146,\n",
       "         'Northern Siberia': 72,\n",
       "         'Bolivia': 16})"
      ]
     },
     "execution_count": 21,
     "metadata": {},
     "output_type": "execute_result"
    }
   ],
   "source": [
    "Counter(df.geog_area)"
   ]
  },
  {
   "cell_type": "code",
   "execution_count": 5,
   "id": "entitled-timer",
   "metadata": {},
   "outputs": [
    {
     "data": {
      "text/html": [
       "<div>\n",
       "<style scoped>\n",
       "    .dataframe tbody tr th:only-of-type {\n",
       "        vertical-align: middle;\n",
       "    }\n",
       "\n",
       "    .dataframe tbody tr th {\n",
       "        vertical-align: top;\n",
       "    }\n",
       "\n",
       "    .dataframe thead th {\n",
       "        text-align: right;\n",
       "    }\n",
       "</style>\n",
       "<table border=\"1\" class=\"dataframe\">\n",
       "  <thead>\n",
       "    <tr style=\"text-align: right;\">\n",
       "      <th></th>\n",
       "      <th>glac_id</th>\n",
       "      <th>src_date</th>\n",
       "      <th>area</th>\n",
       "      <th>db_area</th>\n",
       "      <th>geog_area</th>\n",
       "      <th>geometry</th>\n",
       "      <th>my_area</th>\n",
       "    </tr>\n",
       "  </thead>\n",
       "  <tbody>\n",
       "    <tr>\n",
       "      <th>0</th>\n",
       "      <td>G263560E76894S</td>\n",
       "      <td>2001-10-01T00:00:00</td>\n",
       "      <td>165078.00</td>\n",
       "      <td>165079.00000</td>\n",
       "      <td>West Antarctica</td>\n",
       "      <td>POLYGON Z ((-86.62274 -74.90813 0.00000, -86.6...</td>\n",
       "      <td>1.650792e+05</td>\n",
       "    </tr>\n",
       "    <tr>\n",
       "      <th>1</th>\n",
       "      <td>G343222E64409N</td>\n",
       "      <td>1999-01-01T00:00:00</td>\n",
       "      <td>0.00</td>\n",
       "      <td>8091.67000</td>\n",
       "      <td>Iceland</td>\n",
       "      <td>MULTIPOLYGON Z (((-15.37719 64.66761 0.00000, ...</td>\n",
       "      <td>8.087962e+03</td>\n",
       "    </tr>\n",
       "    <tr>\n",
       "      <th>2</th>\n",
       "      <td>G344790E81287N</td>\n",
       "      <td>2003-07-01T00:00:00</td>\n",
       "      <td>7537.57</td>\n",
       "      <td>7537.75000</td>\n",
       "      <td>Randolph Glacier Inventory; Umbrella RC for me...</td>\n",
       "      <td>POLYGON Z ((-17.27170 81.32675 0.00000, -17.27...</td>\n",
       "      <td>7.537750e+03</td>\n",
       "    </tr>\n",
       "    <tr>\n",
       "      <th>3</th>\n",
       "      <td>G298930E65309S</td>\n",
       "      <td>2000-02-21T00:00:00</td>\n",
       "      <td>0.00</td>\n",
       "      <td>7380.90000</td>\n",
       "      <td>Various (NSIDC)</td>\n",
       "      <td>POLYGON Z ((-61.70293 -65.53641 0.00000, -61.7...</td>\n",
       "      <td>7.380898e+03</td>\n",
       "    </tr>\n",
       "    <tr>\n",
       "      <th>4</th>\n",
       "      <td>G294015E69537S</td>\n",
       "      <td>2002-12-31T00:00:00</td>\n",
       "      <td>7018.37</td>\n",
       "      <td>7018.32000</td>\n",
       "      <td>Antarctic Peninsula</td>\n",
       "      <td>POLYGON Z ((-65.06517 -69.48544 0.00000, -65.0...</td>\n",
       "      <td>7.018288e+03</td>\n",
       "    </tr>\n",
       "    <tr>\n",
       "      <th>...</th>\n",
       "      <td>...</td>\n",
       "      <td>...</td>\n",
       "      <td>...</td>\n",
       "      <td>...</td>\n",
       "      <td>...</td>\n",
       "      <td>...</td>\n",
       "      <td>...</td>\n",
       "    </tr>\n",
       "    <tr>\n",
       "      <th>548909</th>\n",
       "      <td>G213058E61576N</td>\n",
       "      <td>2007-07-16T00:00:00</td>\n",
       "      <td>0.00</td>\n",
       "      <td>0.00000</td>\n",
       "      <td>Alaska</td>\n",
       "      <td>POLYGON Z ((-146.92007 61.58008 0.00000, -146....</td>\n",
       "      <td>-9.313226e-16</td>\n",
       "    </tr>\n",
       "    <tr>\n",
       "      <th>548910</th>\n",
       "      <td>G226291E58952N</td>\n",
       "      <td>2001-08-15T00:00:00</td>\n",
       "      <td>0.00</td>\n",
       "      <td>3.92986</td>\n",
       "      <td>Various (NSIDC)</td>\n",
       "      <td>POLYGON Z ((-133.68569 58.96223 0.00000, -133....</td>\n",
       "      <td>-3.943725e+00</td>\n",
       "    </tr>\n",
       "    <tr>\n",
       "      <th>548911</th>\n",
       "      <td>G214152E61305N</td>\n",
       "      <td>2007-07-16T00:00:00</td>\n",
       "      <td>0.00</td>\n",
       "      <td>42.69420</td>\n",
       "      <td>Alaska</td>\n",
       "      <td>POLYGON Z ((-145.90074 61.29870 0.00000, -145....</td>\n",
       "      <td>-4.269424e+01</td>\n",
       "    </tr>\n",
       "    <tr>\n",
       "      <th>548912</th>\n",
       "      <td>G211615E61175N</td>\n",
       "      <td>2007-07-16T00:00:00</td>\n",
       "      <td>0.00</td>\n",
       "      <td>226.41100</td>\n",
       "      <td>Alaska</td>\n",
       "      <td>POLYGON Z ((-148.25825 61.16509 0.00000, -148....</td>\n",
       "      <td>-2.719483e+02</td>\n",
       "    </tr>\n",
       "    <tr>\n",
       "      <th>548913</th>\n",
       "      <td>G212431E61569N</td>\n",
       "      <td>2007-07-16T00:00:00</td>\n",
       "      <td>0.00</td>\n",
       "      <td>316.62900</td>\n",
       "      <td>Alaska</td>\n",
       "      <td>POLYGON Z ((-147.36569 61.57227 0.00000, -147....</td>\n",
       "      <td>-4.536962e+02</td>\n",
       "    </tr>\n",
       "  </tbody>\n",
       "</table>\n",
       "<p>548914 rows × 7 columns</p>\n",
       "</div>"
      ],
      "text/plain": [
       "               glac_id             src_date       area       db_area  \\\n",
       "0       G263560E76894S  2001-10-01T00:00:00  165078.00  165079.00000   \n",
       "1       G343222E64409N  1999-01-01T00:00:00       0.00    8091.67000   \n",
       "2       G344790E81287N  2003-07-01T00:00:00    7537.57    7537.75000   \n",
       "3       G298930E65309S  2000-02-21T00:00:00       0.00    7380.90000   \n",
       "4       G294015E69537S  2002-12-31T00:00:00    7018.37    7018.32000   \n",
       "...                ...                  ...        ...           ...   \n",
       "548909  G213058E61576N  2007-07-16T00:00:00       0.00       0.00000   \n",
       "548910  G226291E58952N  2001-08-15T00:00:00       0.00       3.92986   \n",
       "548911  G214152E61305N  2007-07-16T00:00:00       0.00      42.69420   \n",
       "548912  G211615E61175N  2007-07-16T00:00:00       0.00     226.41100   \n",
       "548913  G212431E61569N  2007-07-16T00:00:00       0.00     316.62900   \n",
       "\n",
       "                                                geog_area  \\\n",
       "0                                         West Antarctica   \n",
       "1                                                 Iceland   \n",
       "2       Randolph Glacier Inventory; Umbrella RC for me...   \n",
       "3                                         Various (NSIDC)   \n",
       "4                                     Antarctic Peninsula   \n",
       "...                                                   ...   \n",
       "548909                                             Alaska   \n",
       "548910                                    Various (NSIDC)   \n",
       "548911                                             Alaska   \n",
       "548912                                             Alaska   \n",
       "548913                                             Alaska   \n",
       "\n",
       "                                                 geometry       my_area  \n",
       "0       POLYGON Z ((-86.62274 -74.90813 0.00000, -86.6...  1.650792e+05  \n",
       "1       MULTIPOLYGON Z (((-15.37719 64.66761 0.00000, ...  8.087962e+03  \n",
       "2       POLYGON Z ((-17.27170 81.32675 0.00000, -17.27...  7.537750e+03  \n",
       "3       POLYGON Z ((-61.70293 -65.53641 0.00000, -61.7...  7.380898e+03  \n",
       "4       POLYGON Z ((-65.06517 -69.48544 0.00000, -65.0...  7.018288e+03  \n",
       "...                                                   ...           ...  \n",
       "548909  POLYGON Z ((-146.92007 61.58008 0.00000, -146.... -9.313226e-16  \n",
       "548910  POLYGON Z ((-133.68569 58.96223 0.00000, -133.... -3.943725e+00  \n",
       "548911  POLYGON Z ((-145.90074 61.29870 0.00000, -145.... -4.269424e+01  \n",
       "548912  POLYGON Z ((-148.25825 61.16509 0.00000, -148.... -2.719483e+02  \n",
       "548913  POLYGON Z ((-147.36569 61.57227 0.00000, -147.... -4.536962e+02  \n",
       "\n",
       "[548914 rows x 7 columns]"
      ]
     },
     "execution_count": 5,
     "metadata": {},
     "output_type": "execute_result"
    }
   ],
   "source": [
    "df = df.sort_values(by = \"my_area\", ascending = False)\n",
    "df.reset_index(drop = True)"
   ]
  },
  {
   "cell_type": "code",
   "execution_count": 13,
   "id": "noted-survivor",
   "metadata": {},
   "outputs": [],
   "source": [
    "from collections import Counter"
   ]
  },
  {
   "cell_type": "code",
   "execution_count": 16,
   "id": "closed-paris",
   "metadata": {},
   "outputs": [
    {
     "data": {
      "text/plain": [
       "(548914, 7)"
      ]
     },
     "execution_count": 16,
     "metadata": {},
     "output_type": "execute_result"
    }
   ],
   "source": [
    "df.shape"
   ]
  },
  {
   "cell_type": "code",
   "execution_count": 15,
   "id": "aware-invalid",
   "metadata": {},
   "outputs": [
    {
     "data": {
      "text/plain": [
       "324929"
      ]
     },
     "execution_count": 15,
     "metadata": {},
     "output_type": "execute_result"
    }
   ],
   "source": [
    "len(Counter(df.glac_id))"
   ]
  },
  {
   "cell_type": "code",
   "execution_count": 10,
   "id": "optical-october",
   "metadata": {},
   "outputs": [
    {
     "ename": "OverflowError",
     "evalue": "Maximum recursion level reached",
     "output_type": "error",
     "traceback": [
      "\u001b[1;31m---------------------------------------------------------------------------\u001b[0m",
      "\u001b[1;31mOverflowError\u001b[0m                             Traceback (most recent call last)",
      "\u001b[1;32m<ipython-input-10-1c06a7281346>\u001b[0m in \u001b[0;36m<module>\u001b[1;34m\u001b[0m\n\u001b[1;32m----> 1\u001b[1;33m \u001b[0mqgrid\u001b[0m\u001b[1;33m.\u001b[0m\u001b[0mshow_grid\u001b[0m\u001b[1;33m(\u001b[0m\u001b[0mdf\u001b[0m\u001b[1;33m.\u001b[0m\u001b[0mhead\u001b[0m\u001b[1;33m(\u001b[0m\u001b[1;36m100\u001b[0m\u001b[1;33m)\u001b[0m\u001b[1;33m,\u001b[0m \u001b[0mgrid_options\u001b[0m\u001b[1;33m=\u001b[0m\u001b[1;33m{\u001b[0m\u001b[1;34m'forceFitColumns'\u001b[0m\u001b[1;33m:\u001b[0m \u001b[1;32mFalse\u001b[0m\u001b[1;33m,\u001b[0m \u001b[1;34m'defaultColumnWidth'\u001b[0m\u001b[1;33m:\u001b[0m \u001b[1;36m200\u001b[0m\u001b[1;33m}\u001b[0m\u001b[1;33m)\u001b[0m\u001b[1;33m\u001b[0m\u001b[1;33m\u001b[0m\u001b[0m\n\u001b[0m",
      "\u001b[1;32m~\\Miniconda3\\envs\\glacier_segmentation\\lib\\site-packages\\qgrid\\grid.py\u001b[0m in \u001b[0;36mshow_grid\u001b[1;34m(data_frame, show_toolbar, precision, grid_options, column_options, column_definitions, row_edit_callback)\u001b[0m\n\u001b[0;32m    504\u001b[0m \u001b[1;33m\u001b[0m\u001b[0m\n\u001b[0;32m    505\u001b[0m     \u001b[1;31m# create a visualization for the dataframe\u001b[0m\u001b[1;33m\u001b[0m\u001b[1;33m\u001b[0m\u001b[1;33m\u001b[0m\u001b[0m\n\u001b[1;32m--> 506\u001b[1;33m     return QgridWidget(df=data_frame, precision=precision,\n\u001b[0m\u001b[0;32m    507\u001b[0m                        \u001b[0mgrid_options\u001b[0m\u001b[1;33m=\u001b[0m\u001b[0mgrid_options\u001b[0m\u001b[1;33m,\u001b[0m\u001b[1;33m\u001b[0m\u001b[1;33m\u001b[0m\u001b[0m\n\u001b[0;32m    508\u001b[0m                        \u001b[0mcolumn_options\u001b[0m\u001b[1;33m=\u001b[0m\u001b[0mcolumn_options\u001b[0m\u001b[1;33m,\u001b[0m\u001b[1;33m\u001b[0m\u001b[1;33m\u001b[0m\u001b[0m\n",
      "\u001b[1;32m~\\Miniconda3\\envs\\glacier_segmentation\\lib\\site-packages\\qgrid\\grid.py\u001b[0m in \u001b[0;36m__init__\u001b[1;34m(self, *args, **kwargs)\u001b[0m\n\u001b[0;32m    625\u001b[0m \u001b[1;33m\u001b[0m\u001b[0m\n\u001b[0;32m    626\u001b[0m         \u001b[1;32mif\u001b[0m \u001b[0mself\u001b[0m\u001b[1;33m.\u001b[0m\u001b[0mdf\u001b[0m \u001b[1;32mis\u001b[0m \u001b[1;32mnot\u001b[0m \u001b[1;32mNone\u001b[0m\u001b[1;33m:\u001b[0m\u001b[1;33m\u001b[0m\u001b[1;33m\u001b[0m\u001b[0m\n\u001b[1;32m--> 627\u001b[1;33m             \u001b[0mself\u001b[0m\u001b[1;33m.\u001b[0m\u001b[0m_update_df\u001b[0m\u001b[1;33m(\u001b[0m\u001b[1;33m)\u001b[0m\u001b[1;33m\u001b[0m\u001b[1;33m\u001b[0m\u001b[0m\n\u001b[0m\u001b[0;32m    628\u001b[0m \u001b[1;33m\u001b[0m\u001b[0m\n\u001b[0;32m    629\u001b[0m     \u001b[1;32mdef\u001b[0m \u001b[0m_grid_options_default\u001b[0m\u001b[1;33m(\u001b[0m\u001b[0mself\u001b[0m\u001b[1;33m)\u001b[0m\u001b[1;33m:\u001b[0m\u001b[1;33m\u001b[0m\u001b[1;33m\u001b[0m\u001b[0m\n",
      "\u001b[1;32m~\\Miniconda3\\envs\\glacier_segmentation\\lib\\site-packages\\qgrid\\grid.py\u001b[0m in \u001b[0;36m_update_df\u001b[1;34m(self)\u001b[0m\n\u001b[0;32m    818\u001b[0m         \u001b[0mself\u001b[0m\u001b[1;33m.\u001b[0m\u001b[0m_unfiltered_df\u001b[0m \u001b[1;33m=\u001b[0m \u001b[0mself\u001b[0m\u001b[1;33m.\u001b[0m\u001b[0m_df\u001b[0m\u001b[1;33m.\u001b[0m\u001b[0mcopy\u001b[0m\u001b[1;33m(\u001b[0m\u001b[1;33m)\u001b[0m\u001b[1;33m\u001b[0m\u001b[1;33m\u001b[0m\u001b[0m\n\u001b[0;32m    819\u001b[0m \u001b[1;33m\u001b[0m\u001b[0m\n\u001b[1;32m--> 820\u001b[1;33m         \u001b[0mself\u001b[0m\u001b[1;33m.\u001b[0m\u001b[0m_update_table\u001b[0m\u001b[1;33m(\u001b[0m\u001b[0mupdate_columns\u001b[0m\u001b[1;33m=\u001b[0m\u001b[1;32mTrue\u001b[0m\u001b[1;33m,\u001b[0m \u001b[0mfire_data_change_event\u001b[0m\u001b[1;33m=\u001b[0m\u001b[1;32mFalse\u001b[0m\u001b[1;33m)\u001b[0m\u001b[1;33m\u001b[0m\u001b[1;33m\u001b[0m\u001b[0m\n\u001b[0m\u001b[0;32m    821\u001b[0m         \u001b[0mself\u001b[0m\u001b[1;33m.\u001b[0m\u001b[0m_ignore_df_changed\u001b[0m \u001b[1;33m=\u001b[0m \u001b[1;32mFalse\u001b[0m\u001b[1;33m\u001b[0m\u001b[1;33m\u001b[0m\u001b[0m\n\u001b[0;32m    822\u001b[0m \u001b[1;33m\u001b[0m\u001b[0m\n",
      "\u001b[1;32m~\\Miniconda3\\envs\\glacier_segmentation\\lib\\site-packages\\qgrid\\grid.py\u001b[0m in \u001b[0;36m_update_table\u001b[1;34m(self, update_columns, triggered_by, scroll_to_row, fire_data_change_event)\u001b[0m\n\u001b[0;32m    958\u001b[0m             \u001b[0mself\u001b[0m\u001b[1;33m.\u001b[0m\u001b[0m_row_styles\u001b[0m \u001b[1;33m=\u001b[0m \u001b[1;33m{\u001b[0m\u001b[1;33m}\u001b[0m\u001b[1;33m\u001b[0m\u001b[1;33m\u001b[0m\u001b[0m\n\u001b[0;32m    959\u001b[0m \u001b[1;33m\u001b[0m\u001b[0m\n\u001b[1;32m--> 960\u001b[1;33m         df_json = pd_json.to_json(None, df,\n\u001b[0m\u001b[0;32m    961\u001b[0m                                   \u001b[0morient\u001b[0m\u001b[1;33m=\u001b[0m\u001b[1;34m'table'\u001b[0m\u001b[1;33m,\u001b[0m\u001b[1;33m\u001b[0m\u001b[1;33m\u001b[0m\u001b[0m\n\u001b[0;32m    962\u001b[0m                                   \u001b[0mdate_format\u001b[0m\u001b[1;33m=\u001b[0m\u001b[1;34m'iso'\u001b[0m\u001b[1;33m,\u001b[0m\u001b[1;33m\u001b[0m\u001b[1;33m\u001b[0m\u001b[0m\n",
      "\u001b[1;32m~\\Miniconda3\\envs\\glacier_segmentation\\lib\\site-packages\\pandas\\io\\json\\_json.py\u001b[0m in \u001b[0;36mto_json\u001b[1;34m(path_or_buf, obj, orient, date_format, double_precision, force_ascii, date_unit, default_handler, lines, compression, index, indent, storage_options)\u001b[0m\n\u001b[0;32m     83\u001b[0m         \u001b[1;32mraise\u001b[0m \u001b[0mNotImplementedError\u001b[0m\u001b[1;33m(\u001b[0m\u001b[1;34m\"'obj' should be a Series or a DataFrame\"\u001b[0m\u001b[1;33m)\u001b[0m\u001b[1;33m\u001b[0m\u001b[1;33m\u001b[0m\u001b[0m\n\u001b[0;32m     84\u001b[0m \u001b[1;33m\u001b[0m\u001b[0m\n\u001b[1;32m---> 85\u001b[1;33m     s = writer(\n\u001b[0m\u001b[0;32m     86\u001b[0m         \u001b[0mobj\u001b[0m\u001b[1;33m,\u001b[0m\u001b[1;33m\u001b[0m\u001b[1;33m\u001b[0m\u001b[0m\n\u001b[0;32m     87\u001b[0m         \u001b[0morient\u001b[0m\u001b[1;33m=\u001b[0m\u001b[0morient\u001b[0m\u001b[1;33m,\u001b[0m\u001b[1;33m\u001b[0m\u001b[1;33m\u001b[0m\u001b[0m\n",
      "\u001b[1;32m~\\Miniconda3\\envs\\glacier_segmentation\\lib\\site-packages\\pandas\\io\\json\\_json.py\u001b[0m in \u001b[0;36mwrite\u001b[1;34m(self)\u001b[0m\n\u001b[0;32m    145\u001b[0m     \u001b[1;32mdef\u001b[0m \u001b[0mwrite\u001b[0m\u001b[1;33m(\u001b[0m\u001b[0mself\u001b[0m\u001b[1;33m)\u001b[0m\u001b[1;33m:\u001b[0m\u001b[1;33m\u001b[0m\u001b[1;33m\u001b[0m\u001b[0m\n\u001b[0;32m    146\u001b[0m         \u001b[0miso_dates\u001b[0m \u001b[1;33m=\u001b[0m \u001b[0mself\u001b[0m\u001b[1;33m.\u001b[0m\u001b[0mdate_format\u001b[0m \u001b[1;33m==\u001b[0m \u001b[1;34m\"iso\"\u001b[0m\u001b[1;33m\u001b[0m\u001b[1;33m\u001b[0m\u001b[0m\n\u001b[1;32m--> 147\u001b[1;33m         return dumps(\n\u001b[0m\u001b[0;32m    148\u001b[0m             \u001b[0mself\u001b[0m\u001b[1;33m.\u001b[0m\u001b[0mobj_to_write\u001b[0m\u001b[1;33m,\u001b[0m\u001b[1;33m\u001b[0m\u001b[1;33m\u001b[0m\u001b[0m\n\u001b[0;32m    149\u001b[0m             \u001b[0morient\u001b[0m\u001b[1;33m=\u001b[0m\u001b[0mself\u001b[0m\u001b[1;33m.\u001b[0m\u001b[0morient\u001b[0m\u001b[1;33m,\u001b[0m\u001b[1;33m\u001b[0m\u001b[1;33m\u001b[0m\u001b[0m\n",
      "\u001b[1;31mOverflowError\u001b[0m: Maximum recursion level reached"
     ]
    }
   ],
   "source": [
    "qgrid.show_grid(df.head(100), grid_options={'forceFitColumns': False, 'defaultColumnWidth': 200})"
   ]
  },
  {
   "cell_type": "code",
   "execution_count": 8,
   "id": "hindu-fundamentals",
   "metadata": {},
   "outputs": [],
   "source": [
    "df_2 = df.iloc[0:100,:]"
   ]
  },
  {
   "cell_type": "code",
   "execution_count": 78,
   "id": "advance-wagner",
   "metadata": {},
   "outputs": [],
   "source": [
    "scale_fact = 1.1\n",
    "temp = df.envelope.scale(xfact=scale_fact, yfact=scale_fact).squeeze().exterior"
   ]
  },
  {
   "cell_type": "code",
   "execution_count": 79,
   "id": "wrong-international",
   "metadata": {},
   "outputs": [],
   "source": [
    "temp_list = [list(zip(*np.asarray(t.coords.xy))) for t in temp]"
   ]
  },
  {
   "cell_type": "code",
   "execution_count": 81,
   "id": "finnish-friend",
   "metadata": {},
   "outputs": [],
   "source": [
    "df['bboxes'] = temp_list"
   ]
  },
  {
   "cell_type": "code",
   "execution_count": 83,
   "id": "studied-malawi",
   "metadata": {},
   "outputs": [],
   "source": [
    "path_to_master_glims_df = os.path.join(os.path.expanduser(\"~\"), \"Desktop\", \"projects\",\"glacier_segmentation\",\"glims_data\",\"master_glims_df.csv\")\n",
    "df.to_csv(path_to_master_glims_df)"
   ]
  },
  {
   "cell_type": "code",
   "execution_count": null,
   "id": "particular-export",
   "metadata": {},
   "outputs": [],
   "source": []
  }
 ],
 "metadata": {
  "kernelspec": {
   "display_name": "Python 3",
   "language": "python",
   "name": "python3"
  },
  "language_info": {
   "codemirror_mode": {
    "name": "ipython",
    "version": 3
   },
   "file_extension": ".py",
   "mimetype": "text/x-python",
   "name": "python",
   "nbconvert_exporter": "python",
   "pygments_lexer": "ipython3",
   "version": "3.8.8"
  }
 },
 "nbformat": 4,
 "nbformat_minor": 5
}
